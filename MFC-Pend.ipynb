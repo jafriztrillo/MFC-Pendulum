{
 "cells": [
  {
   "cell_type": "code",
   "execution_count": 5,
   "metadata": {},
   "outputs": [],
   "source": [
    "import numpy as np\n",
    "import control as ct"
   ]
  },
  {
   "cell_type": "code",
   "execution_count": 3,
   "metadata": {},
   "outputs": [],
   "source": [
    "#Intializations\n",
    "Ts = 1E-3 #[s]\n",
    "run_time = 30 #[s]\n",
    "\n",
    "states = np.zeros((3,1))\n",
    "outputs = np.zeros((3,1))\n",
    "u = np.zeros((1,1))\n",
    "u_mfc = np.zeros((1,1))\n",
    "int_value = 0\n",
    "final_value = np.pi/4\n",
    "step_start = (10/Ts)\n",
    "\n",
    "t = np.linspace(0,run_time,int(1/Ts))"
   ]
  },
  {
   "cell_type": "code",
   "execution_count": null,
   "metadata": {},
   "outputs": [],
   "source": [
    "#Reference Generation\n",
    "def ref_gen(step_start, int_value, final_value,t):\n",
    "    ref = np.ones((1,step_start))*int_value\n",
    "    tmp = len(ref)\n",
    "    \n",
    "    "
   ]
  },
  {
   "cell_type": "code",
   "execution_count": 7,
   "metadata": {},
   "outputs": [],
   "source": []
  },
  {
   "cell_type": "code",
   "execution_count": null,
   "metadata": {},
   "outputs": [],
   "source": [
    "for k in range(len(t)-1):\n",
    "    \n",
    "\n"
   ]
  }
 ],
 "metadata": {
  "kernelspec": {
   "display_name": "base",
   "language": "python",
   "name": "python3"
  },
  "language_info": {
   "codemirror_mode": {
    "name": "ipython",
    "version": 3
   },
   "file_extension": ".py",
   "mimetype": "text/x-python",
   "name": "python",
   "nbconvert_exporter": "python",
   "pygments_lexer": "ipython3",
   "version": "3.9.13"
  },
  "orig_nbformat": 4
 },
 "nbformat": 4,
 "nbformat_minor": 2
}
