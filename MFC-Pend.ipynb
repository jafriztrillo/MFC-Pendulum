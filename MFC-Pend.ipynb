{
 "cells": [
  {
   "cell_type": "code",
   "execution_count": 12,
   "metadata": {},
   "outputs": [],
   "source": [
    "import numpy as np\n",
    "import control as ct"
   ]
  },
  {
   "cell_type": "code",
   "execution_count": 13,
   "metadata": {},
   "outputs": [
    {
     "name": "stderr",
     "output_type": "stream",
     "text": [
      "C:\\Users\\zenwh\\AppData\\Local\\Temp\\ipykernel_10688\\2342922792.py:32: VisibleDeprecationWarning: Creating an ndarray from ragged nested sequences (which is a list-or-tuple of lists-or-tuples-or ndarrays with different lengths or shapes) is deprecated. If you meant to do this, you must specify 'dtype=object' when creating the ndarray.\n",
      "  B_EKF = np.array([[0.5*Ts**2*beta],\n"
     ]
    }
   ],
   "source": [
    "#Intializations\n",
    "Ts = 1E-2 #[s]\n",
    "run_time = 30 #[s]\n",
    "\n",
    "#Variables\n",
    "g = 9.81 #gravity [m/s^2]\n",
    "m = 1 #pendulum mass [kg]\n",
    "l = 0.5 #pendulum length [m]\n",
    "k = 0.5 #coeff static friction\n",
    "\n",
    "#EKF Variables\n",
    "var_Q = 1e-6 #process noise\n",
    "var_R = 1e-6 #measurement noise\n",
    "numb_sensor = 2 # TODO\n",
    "Q1 = var_Q*np.eye(3) # TODO\n",
    "Q2 = var_Q*np.eye(2) #TODO\n",
    "P1 = var_R*np.eye(3) # TODO\n",
    "\n",
    "R = var_R * np.eye(2*numb_sensor) # TODO\n",
    "R2 = var_R * np.eye(2)  # TODO\n",
    "\n",
    "#MFC EKF\n",
    "\"\"\"\n",
    "Add documentation about this guy \n",
    "\"\"\"\n",
    "A_EKF = np.array([[1, Ts, 0.5*Ts**2],\n",
    "                  [0, 1, Ts],\n",
    "                  [0, 0, 1]])\n",
    "\n",
    "beta = 1/(m*l**2) # From dynamics\n",
    "\n",
    "B_EKF = np.array([[0.5*Ts**2*beta],\n",
    "                  [Ts*beta],\n",
    "                  0])\n",
    "C_EKF = np.array([[1, 0, 0]])\n",
    "\n",
    "\n",
    "\n",
    "set_point = np.pi/4\n",
    "step_start = (10/Ts)\n",
    "\n",
    "t = np.linspace(0,run_time,int(run_time/Ts))\n",
    "\n",
    "states = np.zeros((3,1))\n",
    "outputs = np.zeros((3,1))\n",
    "u = np.zeros((1,1))\n",
    "u_mfc = np.zeros((1,1))\n",
    "int_value = 0\n",
    "\n",
    "#Others???\n",
    "x_hat = np.zeros((3,1))\n",
    "sigmaV = 0\n",
    "P_hat = P1 #Why does he call it P1?\n",
    "prev_diff = 0\n",
    "\n",
    "#Control Variables\n",
    "e = 0\n",
    "e_dot = 0\n",
    "u_i = 0\n",
    "\n"
   ]
  },
  {
   "cell_type": "code",
   "execution_count": 14,
   "metadata": {},
   "outputs": [],
   "source": [
    "#Pole Placement\n",
    "def pole_placement():\n",
    "    #State Space\n",
    "    A = np.array([[0, 1, 0],\\\n",
    "              [0, 0, 0],\\\n",
    "              [1, 0, 0]])\n",
    "\n",
    "    B = np.array([[0],\\\n",
    "              [1],\\\n",
    "              [0]])\n",
    "\n",
    "    C = np.array([[1, 0]])  \n",
    "\n",
    "    #Convergence Specs\n",
    "    Mp = 0.10\n",
    "    Ts = 1.0\n",
    "    v = np.log(Mp)\n",
    "    zeta = -v/np.sqrt(np.pi**2 + v**2)\n",
    "    Wn = 4/(zeta*Ts)\n",
    "\n",
    "    #Poles\n",
    "    P2 = np.roots([1, 2*zeta*Wn, Wn**2])\n",
    "    P = np.array([P2[0], P2[1], -10*np.real(P2[0])])\n",
    "\n",
    "    K = ct.acker(A,B,P)\n",
    "    K1 = K[0,0]\n",
    "    K2 = K[0,1]\n",
    "    K3 = K[0,2]\n",
    "\n",
    "    return K1,K2,K3"
   ]
  },
  {
   "cell_type": "code",
   "execution_count": 15,
   "metadata": {},
   "outputs": [],
   "source": [
    "#Reference Generation\n",
    "def ref_gen(step_start, int_value, final_value):\n",
    "    ref = np.ones((1,int(step_start)))*int_value\n",
    "    tmp = np.size(ref)\n",
    "    end_t = int(run_time/Ts)\n",
    "    ref = np.append(ref, np.ones((1, end_t-tmp)) * final_value)\n",
    "    return ref"
   ]
  },
  {
   "cell_type": "code",
   "execution_count": 16,
   "metadata": {},
   "outputs": [],
   "source": [
    "def non_linear_dynamics(in_states, u, ref):\n",
    "    states[0,0] = in_states[1,0] #x1\n",
    "    #states[1,0] = (g/l)*np.sin(in_states[0,0]) -(k/m)*in_states[1,0] + 1/(m*l**2)*u #x2\n",
    "    #states[2,0] = ref - in_states[0,0] # z3?\n",
    "\n",
    "    #states_out = (states*Ts) + in_states\n",
    "    return  states"
   ]
  },
  {
   "cell_type": "code",
   "execution_count": 17,
   "metadata": {},
   "outputs": [
    {
     "name": "stdout",
     "output_type": "stream",
     "text": [
      "(1, 3000)\n",
      "(1, 1)\n",
      "(3, 1)\n"
     ]
    },
    {
     "ename": "IndexError",
     "evalue": "index 1 is out of bounds for axis 1 with size 1",
     "output_type": "error",
     "traceback": [
      "\u001b[1;31m---------------------------------------------------------------------------\u001b[0m",
      "\u001b[1;31mIndexError\u001b[0m                                Traceback (most recent call last)",
      "Cell \u001b[1;32mIn[17], line 10\u001b[0m\n\u001b[0;32m      6\u001b[0m \u001b[39mprint\u001b[39m(np\u001b[39m.\u001b[39mshape(outputs))\n\u001b[0;32m      8\u001b[0m \u001b[39mfor\u001b[39;00m k \u001b[39min\u001b[39;00m \u001b[39mrange\u001b[39m(\u001b[39m2\u001b[39m, np\u001b[39m.\u001b[39msize(t)):\n\u001b[1;32m---> 10\u001b[0m     (states[:,k]) \u001b[39m=\u001b[39m non_linear_dynamics(outputs[:,k\u001b[39m-\u001b[39;49m\u001b[39m1\u001b[39;49m], u_mfc[:,k\u001b[39m-\u001b[39m\u001b[39m1\u001b[39m],ref[:,k])\n",
      "\u001b[1;31mIndexError\u001b[0m: index 1 is out of bounds for axis 1 with size 1"
     ]
    }
   ],
   "source": [
    "ref = ref_gen(step_start, int_value, set_point)\n",
    "ref=np.reshape(ref, ((1,3000)))\n",
    "\n",
    "print(np.shape(ref))\n",
    "print(np.shape(u_mfc))\n",
    "print(np.shape(outputs))\n",
    "\n",
    "for k in range(2, np.size(t)):\n",
    "    \n",
    "    (states[:,k]) = non_linear_dynamics(outputs[:,k-1], u_mfc[:,k-1],ref[:,k])\n"
   ]
  }
 ],
 "metadata": {
  "kernelspec": {
   "display_name": "base",
   "language": "python",
   "name": "python3"
  },
  "language_info": {
   "codemirror_mode": {
    "name": "ipython",
    "version": 3
   },
   "file_extension": ".py",
   "mimetype": "text/x-python",
   "name": "python",
   "nbconvert_exporter": "python",
   "pygments_lexer": "ipython3",
   "version": "3.9.13"
  },
  "orig_nbformat": 4
 },
 "nbformat": 4,
 "nbformat_minor": 2
}
