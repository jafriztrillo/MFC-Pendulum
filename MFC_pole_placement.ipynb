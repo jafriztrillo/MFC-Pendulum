{
 "cells": [
  {
   "cell_type": "code",
   "execution_count": 1,
   "metadata": {},
   "outputs": [],
   "source": [
    "import numpy as np\n",
    "import control as ct"
   ]
  },
  {
   "cell_type": "code",
   "execution_count": 2,
   "metadata": {},
   "outputs": [],
   "source": [
    "A = np.array([[0, 1, 0],\\\n",
    "              [0, 0, 0],\\\n",
    "              [1, 0, 0]])\n",
    "\n",
    "B = np.array([[0],\n",
    "              [1],\n",
    "              [0]])\n",
    "\n",
    "C = np.array([[1, 0]])"
   ]
  },
  {
   "cell_type": "code",
   "execution_count": 3,
   "metadata": {},
   "outputs": [],
   "source": [
    "#Convergence Specs\n",
    "Mp = 0.10\n",
    "Ts = 1.0\n",
    "v = np.log(Mp)\n",
    "zeta = -v/np.sqrt(np.pi**2 + v**2)\n",
    "Wn = 4/(zeta*Ts)"
   ]
  },
  {
   "cell_type": "code",
   "execution_count": 6,
   "metadata": {},
   "outputs": [],
   "source": [
    "#Poles\n",
    "P2 = np.roots([1, 2*zeta*Wn, Wn**2])\n",
    "P = np.array([P2[0], P2[1], -10*np.real(P2[0])])\n",
    "\n",
    "K = ct.acker(A,B,P)\n",
    "K1 = K[0,0]\n",
    "K2 = K[0,1]\n",
    "K3 = K[0,2]"
   ]
  },
  {
   "cell_type": "code",
   "execution_count": null,
   "metadata": {},
   "outputs": [],
   "source": []
  }
 ],
 "metadata": {
  "kernelspec": {
   "display_name": "Python 3",
   "language": "python",
   "name": "python3"
  },
  "language_info": {
   "codemirror_mode": {
    "name": "ipython",
    "version": 3
   },
   "file_extension": ".py",
   "mimetype": "text/x-python",
   "name": "python",
   "nbconvert_exporter": "python",
   "pygments_lexer": "ipython3",
   "version": "3.9.13"
  },
  "orig_nbformat": 4
 },
 "nbformat": 4,
 "nbformat_minor": 2
}
